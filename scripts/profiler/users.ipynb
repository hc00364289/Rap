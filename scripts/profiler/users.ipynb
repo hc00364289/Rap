{
 "cells": [
  {
   "cell_type": "markdown",
   "metadata": {},
   "source": [
    "# API Profile: Users"
   ]
  },
  {
   "cell_type": "code",
   "execution_count": 5,
   "metadata": {},
   "outputs": [],
   "source": [
    "import base64\n",
    "import requests\n",
    "from itsdangerous import URLSafeTimedSerializer"
   ]
  },
  {
   "cell_type": "code",
   "execution_count": 6,
   "metadata": {},
   "outputs": [],
   "source": [
    "TM_SECRET = 's0m3l0ngr4nd0mstr1ng-b3cr34tiv3&h4v3fun'\n",
    "API_URL = 'http://127.0.0.1:5000/api/v2/'"
   ]
  },
  {
   "cell_type": "code",
   "execution_count": 13,
   "metadata": {
    "scrolled": false
   },
   "outputs": [],
   "source": [
    "def create_token(user_id):\n",
    "    serializer = URLSafeTimedSerializer(TM_SECRET)\n",
    "    token = serializer.dumps(user_id)\n",
    "    encoded = base64.b64encode(bytes(token, 'utf-8')).decode('utf-8')\n",
    "\n",
    "    return encoded\n",
    "\n",
    "\n",
    "def get_user(user_id, token):\n",
    "    method = f'users/{user_id}'\n",
    "    resp = requests.get(API_URL + method, headers={'Authorization': f'Token {token}'})\n",
    "    \n",
    "    print(\"Status code:\" + str(resp.status_code))\n",
    "    print(\"Time response:\" + str(resp.elapsed))"
   ]
  },
  {
   "cell_type": "code",
   "execution_count": 14,
   "metadata": {},
   "outputs": [
    {
     "name": "stdout",
     "output_type": "stream",
     "text": [
      "Status code:404\n",
      "Time response:0:00:00.012990\n"
     ]
    }
   ],
   "source": [
    "def main():\n",
    "    #set user_id\n",
    "    #default user in test data\n",
    "    user_id = 1\n",
    "    token = create_token(user_id)\n",
    "    get_user(user_id, token)\n",
    "    \n",
    "\n",
    "if __name__ == '__main__':\n",
    "    main()"
   ]
  }
 ],
 "metadata": {
  "kernelspec": {
   "display_name": "Python 3",
   "language": "python",
   "name": "python3"
  },
  "language_info": {
   "codemirror_mode": {
    "name": "ipython",
    "version": 3
   },
   "file_extension": ".py",
   "mimetype": "text/x-python",
   "name": "python",
   "nbconvert_exporter": "python",
   "pygments_lexer": "ipython3",
   "version": "3.7.3"
  }
 },
 "nbformat": 4,
 "nbformat_minor": 4
}
